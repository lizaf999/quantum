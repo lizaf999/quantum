{
 "cells": [
  {
   "cell_type": "markdown",
   "metadata": {},
   "source": [
    "# Quantum Annealing with the Jarzynski Equality\n",
    "## Masayuki Ohzeki. *Phys. Rev. Lett.* 2010.\n",
    "\n",
    "### この論文について追実験を行い手法のメリット・デメリットを確認する."
   ]
  },
  {
   "cell_type": "markdown",
   "metadata": {},
   "source": [
    "# 要旨\n",
    "　非平衡統計力学におけるJarzynski等式$\\left\\langle\\exp(-\\beta\\Delta w)\\right\\rangle_\\Gamma=Z_1/Z_0$は分配関数に関して成り立つ等式であり，本来準静的なプロトコルでしか求めることができなかった量を集合平均を用いることで有限時間のプロトコルで求めることができるものである．本研究では量子アニーリングにこの等式を導入することで，有限時間のスケジュールであっても効率よく基底状態を得ることを目的としている．\n",
    " \n",
    "　ポイントは以下のようになる．\n",
    " \n",
    " - 量子アニーリングを古典の形式に合わせるためClassical-quantum mappingにより逆温度$\\beta$を導入する.\n",
    " - 基底状態を次の逆温度の基底状態に変える演算子exponentiated work operator $W_\\mathrm{unit.}$を導入する.\n",
    " - $W_\\mathrm{unit.}$をユニタリにするためにancillaが必要である．\n",
    " - 一様な基底状態に$W_\\mathrm{unit.}$を繰り返し適用することで目的のハミルトニアン$H_0$の基底状態の成分が大きくなる\n",
    " - 逆温度をある$\\beta$まで変化させるとする．$\\delta\\beta$によって必要な$W_\\mathrm{unit.}$の回数は変わるが，最終的な状態についてancilaを$\\left|0\\right\\rangle$に射影すると$H_0$の基底を得る確率は$\\delta\\beta$によらず$\\beta$のみで定まる．これがJarzynski等式のメリットである．\n",
    " - 実装面ではトレードオフが存在する．$\\delta\\beta$が大きいとancillaが$\\left|1\\right\\rangle$になる確率が大きくなってしまう．他方，$\\delta\\beta$が小さいと目的の$\\beta$に達するために必要な$W_\\mathrm{unit.}$が増えるためより多くのancilla qubitsが必要になる．"
   ]
  },
  {
   "cell_type": "markdown",
   "metadata": {},
   "source": [
    "# 準備\n",
    "### テンソル積の定義"
   ]
  },
  {
   "cell_type": "code",
   "execution_count": 1,
   "metadata": {},
   "outputs": [],
   "source": [
    "import numpy as np\n",
    "def tp(m1, m2):\n",
    "    (r1, c1) = m1.shape\n",
    "    (r2, c2) = m2.shape\n",
    "    \n",
    "    return np.vstack([np.hstack([m1[i, j] * m2 for j in range(c1)]) for i in range(r1)])\n",
    "\n",
    "# m_listは行列のリスト\n",
    "def tensor_product(m_list):\n",
    "    s = len(m_list)\n",
    "    if s == 0:\n",
    "        return None\n",
    "    else:\n",
    "        c = m_list[0]\n",
    "        for i in range(1, s):\n",
    "            c = tp(c, m_list[i])\n",
    "    return c"
   ]
  },
  {
   "cell_type": "markdown",
   "metadata": {},
   "source": [
    "### 基本的なベクトルと行列の定義"
   ]
  },
  {
   "cell_type": "code",
   "execution_count": 2,
   "metadata": {},
   "outputs": [],
   "source": [
    "bra0 = np.matrix([1,0]).T#|0>\n",
    "hadamard = np.matrix([[1,1],[1,-1]])/2**0.5\n",
    "I = np.matrix(np.identity(2))"
   ]
  },
  {
   "cell_type": "markdown",
   "metadata": {},
   "source": [
    "# 本編"
   ]
  },
  {
   "cell_type": "markdown",
   "metadata": {},
   "source": [
    "### 具体的な問題を通じて本手法の有効性を確認する．\n",
    "### ここではデータベース検索問題を解く．\n",
    "### $N$個の基底の中からハミルトニアン$H_0$を最小にする基底を探索する．\n",
    "### 簡単のために解は$\\left|0\\cdots0\\right\\rangle$とする．"
   ]
  },
  {
   "cell_type": "code",
   "execution_count": 3,
   "metadata": {},
   "outputs": [],
   "source": [
    "def H0(bra):\n",
    "    bra0 = np.matrix([1,0]).T\n",
    "    N = int(np.log2(len(bra)))\n",
    "    bra0_N = tensor_product([bra0]*N)\n",
    "    return -np.dot(bra0_N.T,bra)[0,0]*0.1+0.15#適当に平行移動して正にする"
   ]
  },
  {
   "cell_type": "markdown",
   "metadata": {},
   "source": [
    "## the exponentiated work operator $W_\\mathrm{unit.}$を定義する．\n",
    "### この演算子は古典のアニーリングにおける温度を下げる操作に対応しており，１ステップで逆温度が$\\delta \\beta$大きくなる．\n",
    "### $W_\\mathrm{unit.}$を一回作用させるごとにancilla qubitが１つ必要である．今回は$N_b$ステップ作用させるのでancillaは$N_b$qubitsであり，$W_\\mathrm{unit.}$は$N+N_b$qubitsに作用する．"
   ]
  },
  {
   "cell_type": "code",
   "execution_count": 18,
   "metadata": {},
   "outputs": [],
   "source": [
    "def y(bra,dbeta):\n",
    "    return np.exp(-dbeta*H0(bra))\n",
    "\n",
    "def Wunit(N,Nb,nb,dbeta):\n",
    "    I = np.matrix([[1,0],[0,1]])\n",
    "    Wunit = None\n",
    "    for i in range(2**N):\n",
    "        bra = np.zeros((2**N,1))\n",
    "        bra[i] = 1#全ての基底を網羅する\n",
    "        y_bra = y(bra,dbeta)\n",
    "        Y = np.matrix([[y_bra**0.5,(1-y_bra)**0.5],[-(1-y_bra)**0.5,y_bra**0.5]])\n",
    "        w = np.dot(bra,bra.T)\n",
    "        for j in range(Nb):\n",
    "            if j==nb:\n",
    "                w = tp(w,Y)\n",
    "            else:\n",
    "                w = tp(w,I)\n",
    "        if Wunit is None:\n",
    "            Wunit = w\n",
    "        else:\n",
    "            Wunit += w\n",
    "    return Wunit"
   ]
  },
  {
   "cell_type": "markdown",
   "metadata": {},
   "source": [
    "# 計算"
   ]
  },
  {
   "cell_type": "markdown",
   "metadata": {},
   "source": [
    "### アニーリングの初期状態として各基底が一様に混ざった状態$\\left|\\Psi_\\mathrm{eq}(0)\\right\\rangle$を用意する．\n",
    "### 今回は簡単のためにアダマールゲート$H$で生成する．\n",
    "### $\\left|\\Psi_\\mathrm{eq}(0)\\right\\rangle=(H\\otimes\\cdots\\otimes H)(\\left|0\\right\\rangle\\otimes\\cdots\\otimes \\left|0\\right\\rangle)$"
   ]
  },
  {
   "cell_type": "code",
   "execution_count": 5,
   "metadata": {},
   "outputs": [],
   "source": [
    "def get_initial_state(N):\n",
    "    bra0_N = tensor_product([bra0]*N)\n",
    "    hadamard_N = tensor_product([hadamard]*N)\n",
    "    bra_eq0 = np.dot(hadamard_N,bra0_N)\n",
    "    return bra_eq0"
   ]
  },
  {
   "cell_type": "markdown",
   "metadata": {},
   "source": [
    "### computational state $\\left|\\Psi_\\mathrm{eq}(0),\\phi=0\\right\\rangle$を生成する．\n",
    "###  $\\phi$は$N_b$qubitsのancillaである．"
   ]
  },
  {
   "cell_type": "code",
   "execution_count": 6,
   "metadata": {},
   "outputs": [],
   "source": [
    "def get_computational_state(N,Nb):\n",
    "    phi = tensor_product([bra0]*Nb)\n",
    "    bra_eq0 = get_initial_state(N)\n",
    "    computational_state = tensor_product([bra_eq0,phi])\n",
    "    return computational_state"
   ]
  },
  {
   "cell_type": "markdown",
   "metadata": {},
   "source": [
    "### $W_\\mathrm{unit.}$をcomputational stateに$N_b$回適用し状態$\\left|\\Psi,\\phi'\\right\\rangle$を得る．\n",
    "### この状態のancilla qubitsを0で射影測定することで状態$\\left|\\Psi\\right\\rangle$を得る．\n",
    "### $\\left|\\Psi\\right\\rangle$を基底測定すれば問題の解の候補を得ることができる．"
   ]
  },
  {
   "cell_type": "code",
   "execution_count": 23,
   "metadata": {},
   "outputs": [],
   "source": [
    "def get_final_computational_state(N,Nb,dbeta):\n",
    "    computational_state = get_computational_state(N,Nb)\n",
    "    for i in range(Nb):\n",
    "        computational_state = np.dot(Wunit(N=N,Nb=Nb,nb=i,dbeta=dbeta),computational_state)\n",
    "    return computational_state"
   ]
  },
  {
   "cell_type": "markdown",
   "metadata": {},
   "source": [
    "### 各基底を得る確率とancillaが$\\left|0\\right>$である確率"
   ]
  },
  {
   "cell_type": "code",
   "execution_count": 33,
   "metadata": {},
   "outputs": [],
   "source": [
    "def get_probs(bra,N):\n",
    "    p_tot = np.linalg.norm(bra[:N])**2\n",
    "    probs = []\n",
    "    for i in range(2**N):\n",
    "        prob = np.abs(float(bra[i]))**2/p_tot\n",
    "        probs.append(prob)\n",
    "    return probs,p_tot"
   ]
  },
  {
   "cell_type": "code",
   "execution_count": 35,
   "metadata": {},
   "outputs": [
    {
     "name": "stdout",
     "output_type": "stream",
     "text": [
      "[0.9048374180359596, 0.09516258196404037, 0.7408182206817178, 0.2591817793182822]\n"
     ]
    },
    {
     "data": {
      "image/png": "[encoded data removed]",
      "text/plain": [
       "<Figure size 432x288 with 1 Axes>"
      ]
     },
     "metadata": {
      "needs_background": "light"
     },
     "output_type": "display_data"
    },
    {
     "name": "stdout",
     "output_type": "stream",
     "text": [
      "[0.9512294245007141, 0.04877057549928599, 0.04877057549928599, 0.002500520876738048]\n"
     ]
    },
    {
     "data": {
      "image/png": "[encoded data removed]",
      "text/plain": [
       "<Figure size 432x288 with 1 Axes>"
      ]
     },
     "metadata": {
      "needs_background": "light"
     },
     "output_type": "display_data"
    },
    {
     "name": "stdout",
     "output_type": "stream",
     "text": [
      "[0.9672161004820059, 0.0327838995179941, 0.0327838995179941, 0.0011112139955800175]\n"
     ]
    },
    {
     "data": {
      "image/png": "[encoded data removed]",
      "text/plain": [
       "<Figure size 432x288 with 1 Axes>"
      ]
     },
     "metadata": {
      "needs_background": "light"
     },
     "output_type": "display_data"
    },
    {
     "name": "stdout",
     "output_type": "stream",
     "text": [
      "[0.9753099120283328, 0.024690087971667274, 0.024690087971667274, 0.0006250325527615062]\n"
     ]
    },
    {
     "data": {
      "image/png": "[encoded data removed]",
      "text/plain": [
       "<Figure size 432x288 with 1 Axes>"
      ]
     },
     "metadata": {
      "needs_background": "light"
     },
     "output_type": "display_data"
    }
   ],
   "source": [
    "N = 2\n",
    "beta = 1\n",
    "probs_ls = []\n",
    "Nb_ls = [1,2,3,4]\n",
    "for Nb in Nb_ls:\n",
    "    dbeta = 2/Nb\n",
    "    computational_state = get_final_computational_state(N,Nb,dbeta)\n",
    "    probs,p_tot = get_probs(computational_state,N)\n",
    "    probs_ls.append(probs)\n",
    "    \n",
    "import matplotlib.pyplot as plt\n",
    "for probs in probs_ls:\n",
    "    print(probs)\n",
    "    plt.bar(Nb_ls,probs)\n",
    "    plt.show()"
   ]
  },
  {
   "cell_type": "code",
   "execution_count": null,
   "metadata": {},
   "outputs": [],
   "source": []
  },
  {
   "cell_type": "code",
   "execution_count": null,
   "metadata": {},
   "outputs": [],
   "source": []
  }
 ],
 "metadata": {
  "kernelspec": {
   "display_name": "Python 3",
   "language": "python",
   "name": "python3"
  },
  "language_info": {
   "codemirror_mode": {
    "name": "ipython",
    "version": 3
   },
   "file_extension": ".py",
   "mimetype": "text/x-python",
   "name": "python",
   "nbconvert_exporter": "python",
   "pygments_lexer": "ipython3",
   "version": "3.7.3"
  }
 },
 "nbformat": 4,
 "nbformat_minor": 2
}
