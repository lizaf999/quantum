{
 "cells": [
  {
   "cell_type": "markdown",
   "metadata": {},
   "source": [
    "# Quantum Annealing with the Jarzynski Equality\n",
    "## Masayuki Ohzeki. *Phys. Rev. Lett.* 2010.\n",
    "\n",
    "### この論文について追実験を行い手法のメリット・デメリットを確認する."
   ]
  },
  {
   "cell_type": "markdown",
   "metadata": {},
   "source": [
    "# 要旨\n",
    "　非平衡統計力学におけるJarzynski等式$\\left\\langle\\exp(-\\beta\\Delta w)\\right\\rangle_\\Gamma=Z_1/Z_0$は分配関数に関して成り立つ等式であり，本来準静的なプロトコルでしか求めることができなかった量を集合平均を用いることで有限時間のプロトコルで求めることができるものである．本研究では量子アニーリングにこの等式を導入することで，有限時間のスケジュールであっても効率よく基底状態を得ることを目的としている．\n",
    " \n",
    "　ポイントは以下のようになる．\n",
    " \n",
    " - 量子アニーリングを古典の形式に合わせるためClassical-quantum mappingにより逆温度$\\beta$を導入する.\n",
    " - 基底状態を次の逆温度の基底状態に変える演算子exponentiated work operator $W_\\mathrm{unit.}$を導入する.\n",
    " - $W_\\mathrm{unit.}$をユニタリにするためにancillaが必要である．\n",
    " - 一様な基底状態に$W_\\mathrm{unit.}$を繰り返し適用することで目的のハミルトニアン$H_0$の基底状態の成分が大きくなる\n",
    " - 逆温度をある$\\beta$まで変化させるとする．$\\delta\\beta$によって必要な$W_\\mathrm{unit.}$の回数は変わるが，最終的な状態についてancilaを$\\left|0\\right\\rangle$に射影すると$H_0$の基底を得る確率は$\\delta\\beta$によらず$\\beta$のみで定まる．これがJarzynski等式のメリットである．\n",
    " - 実装面ではトレードオフが存在する．$\\delta\\beta$が大きいとancillaが$\\left|1\\right\\rangle$になる確率が大きくなってしまう．他方，$\\delta\\beta$が小さいと目的の$\\beta$に達するために必要な$W_\\mathrm{unit.}$が増えるためより多くのancilla qubitsが必要になる．"
   ]
  },
  {
   "cell_type": "markdown",
   "metadata": {},
   "source": [
    "# 準備\n",
    "### テンソル積の定義"
   ]
  },
  {
   "cell_type": "code",
   "execution_count": 1,
   "metadata": {},
   "outputs": [],
   "source": [
    "import numpy as np\n",
    "def tp(m1, m2):\n",
    "    (r1, c1) = m1.shape\n",
    "    (r2, c2) = m2.shape\n",
    "    \n",
    "    return np.vstack([np.hstack([m1[i, j] * m2 for j in range(c1)]) for i in range(r1)])\n",
    "\n",
    "# m_listは行列のリスト\n",
    "def tensor_product(m_list):\n",
    "    s = len(m_list)\n",
    "    if s == 0:\n",
    "        return None\n",
    "    else:\n",
    "        c = m_list[0]\n",
    "        for i in range(1, s):\n",
    "            c = tp(c, m_list[i])\n",
    "    return c"
   ]
  },
  {
   "cell_type": "markdown",
   "metadata": {},
   "source": [
    "### 基本的なベクトルと行列の定義"
   ]
  },
  {
   "cell_type": "code",
   "execution_count": 2,
   "metadata": {},
   "outputs": [],
   "source": [
    "bra0 = np.matrix([1,0]).T#|0>\n",
    "hadamard = np.matrix([[1,1],[1,-1]])/2**0.5\n",
    "I = np.matrix(np.identity(2))"
   ]
  },
  {
   "cell_type": "markdown",
   "metadata": {},
   "source": [
    "# 本編"
   ]
  },
  {
   "cell_type": "markdown",
   "metadata": {},
   "source": [
    "### 具体的な問題を通じて本手法の有効性を確認する．\n",
    "### ここではデータベース検索問題を解く．\n",
    "### $N$個の基底の中からハミルトニアン$H_0$を最小にする基底を探索する．\n",
    "### 簡単のために解は$\\left|0\\cdots0\\right\\rangle$とする．"
   ]
  },
  {
   "cell_type": "code",
   "execution_count": 3,
   "metadata": {},
   "outputs": [],
   "source": [
    "def H0(bra):\n",
    "    bra0 = np.matrix([1,0]).T\n",
    "    N = int(np.log2(len(bra)))\n",
    "    bra0_N = tensor_product([bra0]*N)\n",
    "    return -np.dot(bra0_N.T,bra)[0,0]*0.1+0.15#適当に平行移動して正にする"
   ]
  },
  {
   "cell_type": "markdown",
   "metadata": {},
   "source": [
    "## the exponentiated work operator $W_\\mathrm{unit.}$を定義する．\n",
    "### この演算子は古典のアニーリングにおける温度を下げる操作に対応しており，１ステップで逆温度が$\\delta \\beta$大きくなる．\n",
    "### $W_\\mathrm{unit.}$を一回作用させるごとにancilla qubitが１つ必要である．今回は$N_b$ステップ作用させるのでancillaは$N_b$qubitsであり，$W_\\mathrm{unit.}$は$N+N_b$qubitsに作用する．"
   ]
  },
  {
   "cell_type": "code",
   "execution_count": 4,
   "metadata": {},
   "outputs": [],
   "source": [
    "def y(bra,dbeta):\n",
    "    return np.exp(-dbeta*H0(bra))\n",
    "\n",
    "def Wunit(nb):\n",
    "    I = np.matrix([[1,0],[0,1]])\n",
    "    Wunit = None\n",
    "    for i in range(2**N):\n",
    "        bra = np.zeros((2**N,1))\n",
    "        bra[i] = 1#全ての基底を網羅する\n",
    "        y_bra = y(bra,dbeta=2)\n",
    "        Y = np.matrix([[y_bra**0.5,(1-y_bra)**0.5],[-(1-y_bra)**0.5,y_bra**0.5]])\n",
    "        w = np.dot(bra,bra.T)\n",
    "        for j in range(Nb):\n",
    "            if j==nb:\n",
    "                w = tp(w,Y)\n",
    "            else:\n",
    "                w = tp(w,I)\n",
    "        if Wunit is None:\n",
    "            Wunit = w\n",
    "        else:\n",
    "            Wunit += w\n",
    "    return Wunit"
   ]
  },
  {
   "cell_type": "markdown",
   "metadata": {},
   "source": [
    "# 計算"
   ]
  },
  {
   "cell_type": "markdown",
   "metadata": {},
   "source": [
    "### アニーリングの初期状態として各基底が一様に混ざった状態$|\\Psi_\\mathrm{eq}(0)\\rangle$を用意する．\n",
    "### 今回は簡単のためにアダマールゲート$H$で生成する．\n",
    "### $|\\Psi_\\mathrm{eq}(0)\\rangle=(H\\otimes\\cdots\\otimes H)(|0\\rangle\\otimes\\cdots\\otimes |0\\rangle)$"
   ]
  },
  {
   "cell_type": "code",
   "execution_count": 5,
   "metadata": {},
   "outputs": [],
   "source": [
    "N = 2\n",
    "bra0_N = tensor_product([bra0]*N)\n",
    "hadamard_N = tensor_product([hadamard]*N)\n",
    "bra_eq0 = np.dot(hadamard_N,bra0_N)"
   ]
  },
  {
   "cell_type": "markdown",
   "metadata": {},
   "source": [
    "### computational state $|\\Psi_\\mathrm{eq}(0),\\phi=0\\rangle$を生成する．\n",
    "###  $\\phi$は$N_b$qubitsのancillaである．"
   ]
  },
  {
   "cell_type": "code",
   "execution_count": 6,
   "metadata": {},
   "outputs": [],
   "source": [
    "Nb = 2\n",
    "phi = tensor_product([bra0]*Nb)\n",
    "computational_state = tensor_product([bra_eq0,phi])"
   ]
  },
  {
   "cell_type": "markdown",
   "metadata": {},
   "source": [
    "### $W_\\mathrm{unit.}$をcomputational stateに$N_b$回適用し状態$|\\Psi,\\phi'\\rangle$を得る．\n",
    "### この状態のancilla qubitsを0で射影測定することで状態$|\\Psi\\rangle$を得る．\n",
    "### $|\\Psi\\rangle$を基底測定すれば問題の解の候補を得ることができる．"
   ]
  },
  {
   "cell_type": "code",
   "execution_count": 7,
   "metadata": {},
   "outputs": [],
   "source": [
    "for i in range(Nb):\n",
    "    computational_state = np.dot(Wunit(i),computational_state)"
   ]
  },
  {
   "cell_type": "markdown",
   "metadata": {},
   "source": []
  }
 ],
 "metadata": {
  "kernelspec": {
   "display_name": "Python 3",
   "language": "python",
   "name": "python3"
  },
  "language_info": {
   "codemirror_mode": {
    "name": "ipython",
    "version": 3
   },
   "file_extension": ".py",
   "mimetype": "text/x-python",
   "name": "python",
   "nbconvert_exporter": "python",
   "pygments_lexer": "ipython3",
   "version": "3.7.3"
  }
 },
 "nbformat": 4,
 "nbformat_minor": 2
}
